{
  "nbformat": 4,
  "nbformat_minor": 0,
  "metadata": {
    "colab": {
      "provenance": []
    },
    "kernelspec": {
      "name": "python3",
      "display_name": "Python 3"
    },
    "language_info": {
      "name": "python"
    }
  },
  "cells": [
    {
      "cell_type": "code",
      "source": [
        "import nltk\n",
        "nltk.download(\"punkt\")\n",
        "nltk.download(\"stopwords\")\n",
        "nltk.download(\"wordnet\")\n",
        "nltk.download(\"averaged_perceptron_tagger\")"
      ],
      "metadata": {
        "colab": {
          "base_uri": "https://localhost:8080/"
        },
        "id": "cN7I0Djg-2Pb",
        "outputId": "81986e9f-183b-476b-9f9a-af488cf29f82"
      },
      "execution_count": null,
      "outputs": [
        {
          "output_type": "stream",
          "name": "stderr",
          "text": [
            "[nltk_data] Downloading package punkt to /root/nltk_data...\n",
            "[nltk_data]   Package punkt is already up-to-date!\n",
            "[nltk_data] Downloading package stopwords to /root/nltk_data...\n",
            "[nltk_data]   Package stopwords is already up-to-date!\n",
            "[nltk_data] Downloading package wordnet to /root/nltk_data...\n",
            "[nltk_data]   Package wordnet is already up-to-date!\n",
            "[nltk_data] Downloading package averaged_perceptron_tagger to\n",
            "[nltk_data]     /root/nltk_data...\n",
            "[nltk_data]   Package averaged_perceptron_tagger is already up-to-\n",
            "[nltk_data]       date!\n"
          ]
        },
        {
          "output_type": "execute_result",
          "data": {
            "text/plain": [
              "True"
            ]
          },
          "metadata": {},
          "execution_count": 8
        }
      ]
    },
    {
      "cell_type": "code",
      "source": [
        "# Tokenization\n",
        "\n",
        "from nltk import word_tokenize, sent_tokenize"
      ],
      "metadata": {
        "id": "DHW0LMN4-5iM"
      },
      "execution_count": null,
      "outputs": []
    },
    {
      "cell_type": "code",
      "source": [
        "corpus = \"Sachin was the GOAT of the previous generation. Virat is the GOAT of this generation. Shubman will be the GOAT of the next generation\""
      ],
      "metadata": {
        "id": "JtIzYEHW-_Q-"
      },
      "execution_count": null,
      "outputs": []
    },
    {
      "cell_type": "code",
      "source": [
        "print(word_tokenize(corpus))\n",
        "print(sent_tokenize(corpus))"
      ],
      "metadata": {
        "colab": {
          "base_uri": "https://localhost:8080/"
        },
        "id": "em5a7gho_Dcj",
        "outputId": "35ba68fc-e128-42e8-f669-cfff6ce44a8e"
      },
      "execution_count": null,
      "outputs": [
        {
          "output_type": "stream",
          "name": "stdout",
          "text": [
            "['Sachin', 'was', 'the', 'GOAT', 'of', 'the', 'previous', 'generation', '.', 'Virat', 'is', 'the', 'GOAT', 'of', 'this', 'generation', '.', 'Shubman', 'will', 'be', 'the', 'GOAT', 'of', 'the', 'next', 'generation']\n",
            "['Sachin was the GOAT of the previous generation.', 'Virat is the GOAT of this generation.', 'Shubman will be the GOAT of the next generation']\n"
          ]
        }
      ]
    },
    {
      "cell_type": "code",
      "source": [
        "# POS tagging\n",
        "\n",
        "from nltk import pos_tag"
      ],
      "metadata": {
        "id": "79G7PGff_Fs9"
      },
      "execution_count": null,
      "outputs": []
    },
    {
      "cell_type": "code",
      "source": [
        "tokens = word_tokenize(corpus)\n",
        "print(pos_tag(tokens))"
      ],
      "metadata": {
        "colab": {
          "base_uri": "https://localhost:8080/"
        },
        "id": "mthloqnLGEA6",
        "outputId": "6cdbaa44-0f3d-4419-9bcd-57e492d3b705"
      },
      "execution_count": null,
      "outputs": [
        {
          "output_type": "stream",
          "name": "stdout",
          "text": [
            "[('Sachin', 'NNP'), ('was', 'VBD'), ('the', 'DT'), ('GOAT', 'NNP'), ('of', 'IN'), ('the', 'DT'), ('previous', 'JJ'), ('generation', 'NN'), ('.', '.'), ('Virat', 'NNP'), ('is', 'VBZ'), ('the', 'DT'), ('GOAT', 'NNP'), ('of', 'IN'), ('this', 'DT'), ('generation', 'NN'), ('.', '.'), ('Shubman', 'NNP'), ('will', 'MD'), ('be', 'VB'), ('the', 'DT'), ('GOAT', 'NNP'), ('of', 'IN'), ('the', 'DT'), ('next', 'JJ'), ('generation', 'NN')]\n"
          ]
        }
      ]
    },
    {
      "cell_type": "code",
      "source": [
        "# Stop word removal\n",
        "\n",
        "from nltk.corpus import stopwords\n",
        "stop_words = set(stopwords.words(\"english\"))"
      ],
      "metadata": {
        "id": "Uj2ApPm1GHBl"
      },
      "execution_count": null,
      "outputs": []
    },
    {
      "cell_type": "code",
      "source": [
        "tokens = word_tokenize(corpus)\n",
        "cleaned_tokens = []\n",
        "for token in tokens:\n",
        "  if (token not in stop_words):\n",
        "    cleaned_tokens.append(token)\n",
        "print(cleaned_tokens)"
      ],
      "metadata": {
        "colab": {
          "base_uri": "https://localhost:8080/"
        },
        "id": "vNrQ1W4wGYxr",
        "outputId": "3c252eab-7c8e-47bf-ebf3-74940d1a97bf"
      },
      "execution_count": null,
      "outputs": [
        {
          "output_type": "stream",
          "name": "stdout",
          "text": [
            "['Sachin', 'GOAT', 'previous', 'generation', '.', 'Virat', 'GOAT', 'generation', '.', 'Shubman', 'GOAT', 'next', 'generation']\n"
          ]
        }
      ]
    },
    {
      "cell_type": "code",
      "source": [
        "# Stemming\n",
        "\n",
        "from nltk.stem import PorterStemmer\n",
        "     \n",
        "# \n",
        "# \n",
        "stemmer = PorterStemmer()\n",
        "    #  \n",
        "# \n",
        "stemmed_tokens = []\n",
        "for token in cleaned_tokens:\n",
        "  stemmed = stemmer.stem(token)\n",
        "  stemmed_tokens.append(stemmed)\n",
        "print(stemmed_tokens)"
      ],
      "metadata": {
        "colab": {
          "base_uri": "https://localhost:8080/"
        },
        "id": "TKvoi3yxGbSi",
        "outputId": "e96ad8f0-d596-47fd-a821-74ed3ce71a64"
      },
      "execution_count": null,
      "outputs": [
        {
          "output_type": "stream",
          "name": "stdout",
          "text": [
            "['sachin', 'goat', 'previou', 'gener', '.', 'virat', 'goat', 'gener', '.', 'shubman', 'goat', 'next', 'gener']\n"
          ]
        }
      ]
    },
    {
      "cell_type": "code",
      "source": [
        "# Lemmatization\n",
        "\n",
        "from nltk.stem import WordNetLemmatizer\n",
        "#  \n",
        "    #  \n",
        "\n",
        "lemmatizer = WordNetLemmatizer()\n",
        "    #  \n",
        "# \n",
        "lemmatized_tokens = []\n",
        "for token in cleaned_tokens:\n",
        "  lemmatized = lemmatizer.lemmatize(token)\n",
        "  lemmatized_tokens.append(lemmatized)\n",
        "print(lemmatized_tokens)"
      ],
      "metadata": {
        "colab": {
          "base_uri": "https://localhost:8080/"
        },
        "id": "UtiQTo28GlBe",
        "outputId": "553d3e39-2cdb-457f-d386-5f37c560e6ee"
      },
      "execution_count": null,
      "outputs": [
        {
          "output_type": "stream",
          "name": "stdout",
          "text": [
            "['Sachin', 'GOAT', 'previous', 'generation', '.', 'Virat', 'GOAT', 'generation', '.', 'Shubman', 'GOAT', 'next', 'generation']\n"
          ]
        }
      ]
    },
    {
      "cell_type": "code",
      "source": [
        "# TF-IDF\n",
        "\n",
        "from sklearn.feature_extraction.text import TfidfVectorizer\n",
        "     \n",
        "     ####################################\n",
        "\n",
        "corpus = [\n",
        "    \"Sachin was the GOAT of the previous generation\",\n",
        "    \"Virat is the GOAT of the this generation\",\n",
        "    \"Shubman will be the GOAT of the next generation\"\n",
        "]\n",
        "     \n",
        "###################################\n",
        "vectorizer = TfidfVectorizer()\n",
        "   ####################################  \n",
        "\n",
        "matrix = vectorizer.fit(corpus)\n",
        "matrix.vocabulary_"
      ],
      "metadata": {
        "colab": {
          "base_uri": "https://localhost:8080/"
        },
        "id": "yT4lHRFtGtKC",
        "outputId": "9df8b7d6-600f-4618-e38a-6dc94b456174"
      },
      "execution_count": null,
      "outputs": [
        {
          "output_type": "execute_result",
          "data": {
            "text/plain": [
              "{'sachin': 7,\n",
              " 'was': 12,\n",
              " 'the': 9,\n",
              " 'goat': 2,\n",
              " 'of': 5,\n",
              " 'previous': 6,\n",
              " 'generation': 1,\n",
              " 'virat': 11,\n",
              " 'is': 3,\n",
              " 'this': 10,\n",
              " 'shubman': 8,\n",
              " 'will': 13,\n",
              " 'be': 0,\n",
              " 'next': 4}"
            ]
          },
          "metadata": {},
          "execution_count": 37
        }
      ]
    },
    {
      "cell_type": "code",
      "source": [
        "tfidf_matrix = vectorizer.transform(corpus)\n",
        "print(tfidf_matrix)"
      ],
      "metadata": {
        "colab": {
          "base_uri": "https://localhost:8080/"
        },
        "id": "dawQhFzLG34T",
        "outputId": "46194ea8-8cc5-40f3-bd82-a9398206386b"
      },
      "execution_count": null,
      "outputs": [
        {
          "output_type": "stream",
          "name": "stdout",
          "text": [
            "  (0, 12)\t0.4286758743128819\n",
            "  (0, 9)\t0.5063657539459899\n",
            "  (0, 7)\t0.4286758743128819\n",
            "  (0, 6)\t0.4286758743128819\n",
            "  (0, 5)\t0.25318287697299496\n",
            "  (0, 2)\t0.25318287697299496\n",
            "  (0, 1)\t0.25318287697299496\n",
            "  (1, 11)\t0.4286758743128819\n",
            "  (1, 10)\t0.4286758743128819\n",
            "  (1, 9)\t0.5063657539459899\n",
            "  (1, 5)\t0.25318287697299496\n",
            "  (1, 3)\t0.4286758743128819\n",
            "  (1, 2)\t0.25318287697299496\n",
            "  (1, 1)\t0.25318287697299496\n",
            "  (2, 13)\t0.39400039808922477\n",
            "  (2, 9)\t0.4654059642457353\n",
            "  (2, 8)\t0.39400039808922477\n",
            "  (2, 5)\t0.23270298212286766\n",
            "  (2, 4)\t0.39400039808922477\n",
            "  (2, 2)\t0.23270298212286766\n",
            "  (2, 1)\t0.23270298212286766\n",
            "  (2, 0)\t0.39400039808922477\n"
          ]
        }
      ]
    },
    {
      "cell_type": "code",
      "source": [
        "print(vectorizer.get_feature_names_out())\n"
      ],
      "metadata": {
        "id": "W2lWtMjrG7Ti",
        "outputId": "07c12705-bd0d-4b66-fe33-8048dbc3d16f",
        "colab": {
          "base_uri": "https://localhost:8080/"
        }
      },
      "execution_count": null,
      "outputs": [
        {
          "output_type": "stream",
          "name": "stdout",
          "text": [
            "['be' 'generation' 'goat' 'is' 'next' 'of' 'previous' 'sachin' 'shubman'\n",
            " 'the' 'this' 'virat' 'was' 'will']\n"
          ]
        }
      ]
    },
    {
      "cell_type": "code",
      "source": [],
      "metadata": {
        "id": "Ige11G-mG9ST"
      },
      "execution_count": null,
      "outputs": []
    }
  ]
}